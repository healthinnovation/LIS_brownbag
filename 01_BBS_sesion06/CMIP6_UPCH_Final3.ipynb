{
 "cells": [
  {
   "cell_type": "markdown",
   "id": "indie-theater",
   "metadata": {},
   "source": [
    "<div align=\"center\">\n",
    "\n",
    "# Centro Latinoamericano de Excelencia en Cambio Climático y Salud de la Universidad Peruana Cayetano Heredia \n",
    "    \n",
    "</div>\n",
    "\n",
    "<img src=\"clima.jpeg\">"
   ]
  },
  {
   "cell_type": "markdown",
   "id": "consistent-stationery",
   "metadata": {},
   "source": [
    "## Bonus\n",
    "#### Datos publicos de Cambio Climatico : vamos a graficar lineas de la evolucion de calentamiento global"
   ]
  },
  {
   "cell_type": "code",
   "execution_count": 25,
   "id": "worst-silence",
   "metadata": {},
   "outputs": [],
   "source": [
    "#Cargamos paquetes para cargar datos directos de un URL\n",
    "\n",
    "from urllib.request import urlretrieve, urlopen\n",
    "from html.parser import HTMLParser\n",
    "from typing import Union, List, Tuple, Optional, Any"
   ]
  },
  {
   "cell_type": "markdown",
   "id": "painful-intelligence",
   "metadata": {},
   "source": [
    "### Vamos a llamar datos en temperaturas superficiales desde la web de NOAA datos globales \n",
    "\n",
    "Vamos a traer datos grillados desde la web de NOAA\n",
    "\n",
    "https://www.ncei.noaa.gov/data/noaa-global-surface-temperature/v5/access/gridded/NOAA_V5_air_temperature_anomaly.nc"
   ]
  },
  {
   "cell_type": "code",
   "execution_count": 27,
   "id": "vertical-transmission",
   "metadata": {},
   "outputs": [],
   "source": [
    "# Vamos a llamar datos en temperaturas superficiales desde la web de NOAA datos globales \n",
    " \n",
    "URL: str = ('https://www.ncei.noaa.gov/'\n",
    "            'data/noaa-global-surface-temperature/'\n",
    "            'v5/access/gridded/')\n",
    "FILENAME: str = 'NOAA_V5_air_temperature_anomaly.nc'\n",
    " \n",
    "class MyParser(HTMLParser):\n",
    "    def __init__(self, *args, **kwargs) -> None:\n",
    "        super().__init__(*args, **kwargs)\n",
    "        self.nc_files: List[str] = []\n",
    " \n",
    "    def handle_starttag(\n",
    "        self,\n",
    "        tag: str,\n",
    "        attrs: List[Any]\n",
    "    ) -> None:\n",
    "        if tag == \"a\":\n",
    "            # Check the list of defined attributes.\n",
    "            for name, value in attrs:\n",
    "                if name and value and name == \"href\" and value.endswith('.nc'):                    \n",
    "                    self.nc_files.append(value)\n",
    "\n",
    "#Contruimos una funcion para hacer la descarga directa de los datos \n",
    " \n",
    "def download_noaa(url: str, filename: str) -> None:\n",
    "    \"\"\"Get version 5 of NOAA air temperature anomaly.\n",
    " \n",
    "    Parameters\n",
    "    ----------\n",
    "    url : str\n",
    "        Url of the site:         \n",
    "        https://www.ncei.noaa.gov/data/noaa-global-surface-temperature/v5/access/gridded/. \n",
    "    filename : str\n",
    "        The filename to be used to name the downloaded file.\n",
    " \n",
    "    Returns\n",
    "    -------\n",
    "    None. \n",
    "    \"\"\"\n",
    "    html = urlopen(url).read()\n",
    "    parser = MyParser() \n",
    "    parser.feed(str(html))\n",
    "    _filename = parser.nc_files[-1]\n",
    "    urlretrieve(url + _filename, filename)"
   ]
  },
  {
   "cell_type": "markdown",
   "id": "primary-possibility",
   "metadata": {},
   "source": [
    "### En este bloque vamos a a leer los datos con Xarray y manejarlos en pandas, asimismo la función nos va trasformar la data en un serie de tiempo"
   ]
  },
  {
   "cell_type": "code",
   "execution_count": 28,
   "id": "pharmaceutical-transport",
   "metadata": {},
   "outputs": [],
   "source": [
    "import xarray as xr\n",
    "import pandas as pd\n",
    " \n",
    "def read_noaa(filename: str) -> xr.Dataset:\n",
    "    \"\"\"Read the netCDF file downloaded using `download_noaa`.\n",
    " \n",
    "    Parameters\n",
    "    ----------\n",
    "    filename : str\n",
    "        The name of the file to read as `xarray.Dataset`\n",
    " \n",
    "    Returns\n",
    "    -------\n",
    "    `xarray.Dataset`\n",
    "    \"\"\"\n",
    "    return xr.open_dataset(filename)\n",
    " \n",
    "def get_noaa_timeseries(\n",
    "        xarr: xr.Dataset, \n",
    "        lon: Union[int, float], \n",
    "        lat: Union[int, float]\n",
    "    ) -> xr.Dataset:\n",
    "    \"\"\"Get the annual temperature anomaly time series from NOAA data.\n",
    " \n",
    "    Parameters\n",
    "    ----------\n",
    "    xarr : xr.Dataset\n",
    "        `xarray.Dataset` containing the monthly anomalies.\n",
    "    lon : Union[int, float]\n",
    "        Longitude in decimal degrees. It will return the closest timeseries\n",
    "        to this location.\n",
    "    lat : Union[int, float]\n",
    "        Latitude in decimal degrees. It will return the closest timeseries\n",
    "        to this location.\n",
    " \n",
    "    Returns\n",
    "    -------\n",
    "    `xarray.Dataset`.\n",
    "    \"\"\"\n",
    "    data = xarr.sel(lon=lon, lat=lat, z=0, method='nearest')\n",
    "    df = data.to_dataframe()['anom']\n",
    "    ts = df * df.index.days_in_month\n",
    "    ts = (     \n",
    "        ts.groupby(pd.Grouper(freq='Y')).mean()      \n",
    "        /      \n",
    "        ts.groupby(pd.Grouper(freq='Y')).count() \n",
    "    )\n",
    "    return ts"
   ]
  },
  {
   "cell_type": "markdown",
   "id": "trained-mention",
   "metadata": {},
   "source": [
    "### En este ultimo bloque se va construir una funcion que nos grafique nuestras warming stripes en un punto determinado del planeta"
   ]
  },
  {
   "cell_type": "code",
   "execution_count": 33,
   "id": "allied-peace",
   "metadata": {},
   "outputs": [],
   "source": [
    "import matplotlib.pyplot as plt\n",
    "import seaborn as sns\n",
    "import numpy as np\n",
    " \n",
    "def plot_noaa(\n",
    "        xarr: xr.Dataset,\n",
    "        lon: Union[int, float],\n",
    "        lat: Union[int, float]\n",
    "    ) -> None:\n",
    "    lon = float(lon)\n",
    "    lat = float(lat)\n",
    "    ts = get_noaa_timeseries(xarr, lon, lat)\n",
    "    # warming stripes adapted from https://towardsdatascience.com/climate-heatmaps-made-easy-6ec5be0be6ff\n",
    "    fig, ax = plt.subplots(figsize=(12, 10))\n",
    "    sns.heatmap(\n",
    "        data=ts.values[np.newaxis,:],\n",
    "        ax=ax,\n",
    "        cmap='seismic',\n",
    "        cbar=False,\n",
    "        vmin=ts.min(),\n",
    "        vmax=ts.max(),\n",
    "        center=0.,\n",
    "        xticklabels=False, \n",
    "        yticklabels=False,\n",
    "    )\n",
    "    fig.tight_layout()\n",
    "    #fig.savefig(\"warming_stripes_lima.png\")"
   ]
  },
  {
   "cell_type": "markdown",
   "id": "shared-dakota",
   "metadata": {},
   "source": [
    "### Manos en la Masa\n",
    "\n",
    "<img src=\"manos_masa.jpeg\">"
   ]
  },
  {
   "cell_type": "code",
   "execution_count": 43,
   "id": "further-trademark",
   "metadata": {},
   "outputs": [
    {
     "data": {
      "image/png": "[encoded data removed]",
      "text/plain": [
       "<Figure size 864x720 with 1 Axes>"
      ]
     },
     "metadata": {},
     "output_type": "display_data"
    }
   ],
   "source": [
    "download_noaa(URL, FILENAME)\n",
    "xarr = read_noaa(FILENAME)\n",
    "#(longitud, latitud)\n",
    "plot_noaa(xarr, -73.2 , -3.74)\n",
    "plt.title('Warming stripes Iquitos',loc='center')\n",
    "plt.savefig(\"Warming stripes Iquitos.png\")"
   ]
  },
  {
   "cell_type": "code",
   "execution_count": 41,
   "id": "compressed-domestic",
   "metadata": {},
   "outputs": [
    {
     "data": {
      "image/png": "[encoded data removed]",
      "text/plain": [
       "<Figure size 864x720 with 1 Axes>"
      ]
     },
     "metadata": {},
     "output_type": "display_data"
    }
   ],
   "source": [
    "download_noaa(URL, FILENAME)\n",
    "xarr = read_noaa(FILENAME)\n",
    "#(longitud, latitud)\n",
    "plot_noaa(xarr, -77.52 , -9.52)\n",
    "plt.title('Warming stripes Huaraz', loc='center')\n",
    "plt.savefig(\"Warming stripes Huaraz.png\")"
   ]
  },
  {
   "cell_type": "markdown",
   "id": "fiscal-trouble",
   "metadata": {},
   "source": [
    "<div align=\"center\">\n",
    "\n",
    "# CAMBIO CLIMATICO ES REAL!!\n",
    "    \n",
    "</div>\n",
    "\n",
    "<img src=\"climatechange.png\">"
   ]
  },
  {
   "cell_type": "code",
   "execution_count": null,
   "id": "posted-obligation",
   "metadata": {},
   "outputs": [],
   "source": []
  }
 ],
 "metadata": {
  "kernelspec": {
   "display_name": "Python 3",
   "language": "python",
   "name": "python3"
  },
  "language_info": {
   "codemirror_mode": {
    "name": "ipython",
    "version": 3
   },
   "file_extension": ".py",
   "mimetype": "text/x-python",
   "name": "python",
   "nbconvert_exporter": "python",
   "pygments_lexer": "ipython3",
   "version": "3.8.3"
  }
 },
 "nbformat": 4,
 "nbformat_minor": 5
}
